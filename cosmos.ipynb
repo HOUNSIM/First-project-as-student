{
  "nbformat": 4,
  "nbformat_minor": 0,
  "metadata": {
    "colab": {
      "provenance": [],
      "gpuType": "T4",
      "mount_file_id": "1Mh2l2hu71-qszJDoGFEVv0rNGYQR43y9",
      "authorship_tag": "ABX9TyPv6kCl6ON9qx2pcBnsSUhe",
      "include_colab_link": true
    },
    "kernelspec": {
      "name": "python3",
      "display_name": "Python 3"
    },
    "language_info": {
      "name": "python"
    },
    "accelerator": "GPU"
  },
  "cells": [
    {
      "cell_type": "markdown",
      "metadata": {
        "id": "view-in-github",
        "colab_type": "text"
      },
      "source": [
        "<a href=\"https://colab.research.google.com/github/HOUNSIM/First-project-as-student/blob/main/cosmos.ipynb\" target=\"_parent\"><img src=\"https://colab.research.google.com/assets/colab-badge.svg\" alt=\"Open In Colab\"/></a>"
      ]
    },
    {
      "cell_type": "code",
      "execution_count": 34,
      "metadata": {
        "id": "oiLl84my3nFC"
      },
      "outputs": [],
      "source": [
        "!unzip /content/drive/MyDrive/cosmos/celestial_body.zip"
      ]
    },
    {
      "cell_type": "code",
      "source": [
        "# 파일을 접근 -> 메모리에 파일을 올려야 -> 모든 파일의 경로가 필요\n",
        "from glob import glob\n",
        "mother_path = '/content/celestial_body'\n",
        "# dataset 폴더가 없는 상태에서 풀렸다면\n",
        "# mother_path='/content/'\n",
        "glob(mother_path + '/*/*')"
      ],
      "metadata": {
        "colab": {
          "base_uri": "https://localhost:8080/"
        },
        "id": "9oVMBom44NzV",
        "outputId": "59d302cb-9ed9-4105-9529-f443a445b9e9"
      },
      "execution_count": 85,
      "outputs": [
        {
          "output_type": "execute_result",
          "data": {
            "text/plain": [
              "['/content/celestial_body/planet/planet-11.jpeg',\n",
              " '/content/celestial_body/planet/planet-02.jpeg',\n",
              " '/content/celestial_body/planet/planet-18.jpeg',\n",
              " '/content/celestial_body/planet/planet-19.jpeg',\n",
              " '/content/celestial_body/planet/planet-08.jpeg',\n",
              " '/content/celestial_body/planet/planet-05.jpeg',\n",
              " '/content/celestial_body/planet/planet-03.jpeg',\n",
              " '/content/celestial_body/planet/planet-01.jpeg',\n",
              " '/content/celestial_body/planet/planet-13.jpeg',\n",
              " '/content/celestial_body/planet/planet-12.jpeg',\n",
              " '/content/celestial_body/planet/planet-14.jpeg',\n",
              " '/content/celestial_body/planet/planet-07.jpeg',\n",
              " '/content/celestial_body/planet/planet-17.jpeg',\n",
              " '/content/celestial_body/planet/planet-15.jpeg',\n",
              " '/content/celestial_body/planet/planet-16.jpeg',\n",
              " '/content/celestial_body/planet/planet-10.jpeg',\n",
              " '/content/celestial_body/planet/planet-04.jpeg',\n",
              " '/content/celestial_body/planet/planet-06.jpeg',\n",
              " '/content/celestial_body/star/star-64.jpeg',\n",
              " '/content/celestial_body/star/star-23.jpeg',\n",
              " '/content/celestial_body/star/star-40.jpeg',\n",
              " '/content/celestial_body/star/star-52.jpeg',\n",
              " '/content/celestial_body/star/star-38.jpeg',\n",
              " '/content/celestial_body/star/star-15.jpeg',\n",
              " '/content/celestial_body/star/star-14.jpeg',\n",
              " '/content/celestial_body/star/star-36.jpeg',\n",
              " '/content/celestial_body/star/star-66.jpeg',\n",
              " '/content/celestial_body/star/star-10.jpeg',\n",
              " '/content/celestial_body/star/star-25.jpeg',\n",
              " '/content/celestial_body/star/star-59.jpeg',\n",
              " '/content/celestial_body/star/star-12.jpeg',\n",
              " '/content/celestial_body/star/star-35.jpeg',\n",
              " '/content/celestial_body/star/star-33.jpeg',\n",
              " '/content/celestial_body/star/star-24.jpeg',\n",
              " '/content/celestial_body/star/star-32.jpeg',\n",
              " '/content/celestial_body/star/star-18.jpeg',\n",
              " '/content/celestial_body/star/star-34.jpeg',\n",
              " '/content/celestial_body/star/star-08.jpeg',\n",
              " '/content/celestial_body/star/star-20.jpeg',\n",
              " '/content/celestial_body/star/star-07.jpeg',\n",
              " '/content/celestial_body/star/star-45.jpeg',\n",
              " '/content/celestial_body/star/star-11.jpeg',\n",
              " '/content/celestial_body/star/star-57.jpeg',\n",
              " '/content/celestial_body/star/star-56.jpeg',\n",
              " '/content/celestial_body/star/star-03.jpeg',\n",
              " '/content/celestial_body/star/star-30.jpeg',\n",
              " '/content/celestial_body/star/star-19.jpeg',\n",
              " '/content/celestial_body/star/star-16.jpeg',\n",
              " '/content/celestial_body/star/star-61.jpeg',\n",
              " '/content/celestial_body/star/star-28.jpeg',\n",
              " '/content/celestial_body/star/star-26.jpeg',\n",
              " '/content/celestial_body/star/star-58.jpeg',\n",
              " '/content/celestial_body/star/star-51.jpeg',\n",
              " '/content/celestial_body/star/star-46.jpeg',\n",
              " '/content/celestial_body/star/star-01.jpeg',\n",
              " '/content/celestial_body/star/star-06.jpeg',\n",
              " '/content/celestial_body/star/star-29.jpeg',\n",
              " '/content/celestial_body/star/star-17.jpeg',\n",
              " '/content/celestial_body/star/star-49.jpeg',\n",
              " '/content/celestial_body/star/star-13.jpeg',\n",
              " '/content/celestial_body/star/star-04.jpeg',\n",
              " '/content/celestial_body/star/star-37.jpeg',\n",
              " '/content/celestial_body/star/star-31.jpeg',\n",
              " '/content/celestial_body/star/star-53.jpeg',\n",
              " '/content/celestial_body/star/star-44.jpeg',\n",
              " '/content/celestial_body/star/star-55.jpeg',\n",
              " '/content/celestial_body/star/star-54.jpeg',\n",
              " '/content/celestial_body/star/star-68.jpeg',\n",
              " '/content/celestial_body/star/star-22.jpeg',\n",
              " '/content/celestial_body/star/star-50.jpeg',\n",
              " '/content/celestial_body/star/star-62.jpeg',\n",
              " '/content/celestial_body/star/star-43.jpeg',\n",
              " '/content/celestial_body/star/star-60.jpeg',\n",
              " '/content/celestial_body/star/star-42.jpeg',\n",
              " '/content/celestial_body/star/star-65.jpeg',\n",
              " '/content/celestial_body/star/star-02.jpeg',\n",
              " '/content/celestial_body/star/star-41.jpeg',\n",
              " '/content/celestial_body/star/star-39.jpeg',\n",
              " '/content/celestial_body/star/star-21.jpeg',\n",
              " '/content/celestial_body/star/star-67.jpeg',\n",
              " '/content/celestial_body/star/star-48.jpeg',\n",
              " '/content/celestial_body/star/star-63.jpeg',\n",
              " '/content/celestial_body/star/star-09.jpeg',\n",
              " '/content/celestial_body/star/star-27.jpeg',\n",
              " '/content/celestial_body/star/star-47.jpeg']"
            ]
          },
          "metadata": {},
          "execution_count": 85
        }
      ]
    },
    {
      "cell_type": "code",
      "source": [
        "import os\n",
        "a = '/content/'\n",
        "b = 'test'\n",
        "os.path.join(a,b) # = a+'/'+b 리눅스, 맥, window"
      ],
      "metadata": {
        "colab": {
          "base_uri": "https://localhost:8080/",
          "height": 35
        },
        "id": "40Y2HQJ-4TGI",
        "outputId": "5d219861-5c4e-4fb6-aa65-ffbfedb19515"
      },
      "execution_count": 80,
      "outputs": [
        {
          "output_type": "execute_result",
          "data": {
            "text/plain": [
              "'/content/test'"
            ],
            "application/vnd.google.colaboratory.intrinsic+json": {
              "type": "string"
            }
          },
          "metadata": {},
          "execution_count": 80
        }
      ]
    },
    {
      "cell_type": "code",
      "source": [
        "from PIL import Image\n",
        "import numpy as np"
      ],
      "metadata": {
        "id": "yH_Gz65k7buJ"
      },
      "execution_count": 86,
      "outputs": []
    },
    {
      "cell_type": "code",
      "source": [
        "folder_list = ['planet', 'star']\n",
        "train = []\n",
        "label = []\n",
        "for idx , folder_name in enumerate(folder_list):\n",
        "  folder =os.path.join(mother_path,folder_name)\n",
        "  all_files_path=glob(folder+'/*')\n",
        "  for k,file_path in enumerate(all_files_path):\n",
        "    # 파일 불러오기\n",
        "    img=Image.open(file_path)\n",
        "    # 이미지 파일 전처리\n",
        "    img=img.resize((128,128))\n",
        "    img=img.convert('RGB')\n",
        "    np_img=np.array(img)\n",
        "    train.append(np_img)\n",
        "    label.append(idx)\n",
        "    if k%10==0:\n",
        "      print(f'{k} / {len(all_files_path)}')\n",
        "\n",
        "np_train=np.array(train)\n",
        "np_label=np.array(label)"
      ],
      "metadata": {
        "colab": {
          "base_uri": "https://localhost:8080/"
        },
        "id": "xN8VL54l4Usi",
        "outputId": "4a09cec6-d2bc-4c3d-ca9e-2169bfc9a176"
      },
      "execution_count": 87,
      "outputs": [
        {
          "output_type": "stream",
          "name": "stdout",
          "text": [
            "0 / 18\n",
            "10 / 18\n",
            "0 / 67\n",
            "10 / 67\n",
            "20 / 67\n",
            "30 / 67\n",
            "40 / 67\n",
            "50 / 67\n",
            "60 / 67\n"
          ]
        }
      ]
    },
    {
      "cell_type": "code",
      "source": [
        "print(np.bincount(np_label))\n",
        "print(np_train.shape)\n",
        "print(np_label.shape)\n",
        "# # np.save()"
      ],
      "metadata": {
        "colab": {
          "base_uri": "https://localhost:8080/"
        },
        "id": "z98ft7zL58gn",
        "outputId": "b43b1ec1-f4e4-4e1a-a6a0-1eb02024a12c"
      },
      "execution_count": 89,
      "outputs": [
        {
          "output_type": "stream",
          "name": "stdout",
          "text": [
            "[18 67]\n",
            "(85, 128, 128, 3)\n",
            "(85,)\n"
          ]
        }
      ]
    },
    {
      "cell_type": "code",
      "source": [
        "from sklearn.model_selection import train_test_split\n",
        "\n",
        "x_train,x_test,y_train,y_test=train_test_split(np_train,np_label,test_size=0.2)\n",
        "print(x_train.shape)\n",
        "print(x_test.shape)\n",
        "print(y_train.shape)\n",
        "print(y_test.shape)"
      ],
      "metadata": {
        "colab": {
          "base_uri": "https://localhost:8080/"
        },
        "id": "9rHXENxM9ZdA",
        "outputId": "009a1d8e-69ae-4723-daea-cc2ffb5cb34c"
      },
      "execution_count": 90,
      "outputs": [
        {
          "output_type": "stream",
          "name": "stdout",
          "text": [
            "(68, 128, 128, 3)\n",
            "(17, 128, 128, 3)\n",
            "(68,)\n",
            "(17,)\n"
          ]
        }
      ]
    },
    {
      "cell_type": "code",
      "source": [
        "# xy=(x_train,x_test,y_train,y_test)\n",
        "# np.save('preprocessed_data.npy',xy)\n",
        "# np.load('preprocessed_daat.npy)"
      ],
      "metadata": {
        "id": "xTVDgrO09cQn"
      },
      "execution_count": 91,
      "outputs": []
    },
    {
      "cell_type": "code",
      "source": [
        "x_train=x_train/255.\n",
        "x_test=x_test/255."
      ],
      "metadata": {
        "id": "YjLtiwkj_i4W"
      },
      "execution_count": 92,
      "outputs": []
    },
    {
      "cell_type": "code",
      "source": [
        "import tensorflow as tf\n",
        "from tensorflow.keras import layers, models"
      ],
      "metadata": {
        "id": "K7mMdMijTrfl"
      },
      "execution_count": 93,
      "outputs": []
    },
    {
      "cell_type": "code",
      "source": [
        "input_layer = layers.Input(shape=(128,128,3), name='start layer')\n",
        "tower_1 = layers.Conv2D(64 , kernel_size=(1,1) ,\n",
        "                        padding='same', strides=(1,1),\n",
        "                        activation='relu',name = 'tower_1' )(input_layer)\n",
        "tower_2 = layers.Conv2D(64 , kernel_size=(1,1) ,\n",
        "                        padding='same', strides=(1,1),\n",
        "                        activation='relu' , name= 'tower_2_1')(input_layer)\n",
        "tower_2 = layers.Conv2D(64 , kernel_size=(3,3) ,\n",
        "                        padding='same', strides=(1,1),\n",
        "                        activation='relu', name= 'tower_2_2')(tower_2)\n",
        "tower_3 = layers.Conv2D(64 , kernel_size=(1,1) ,\n",
        "                        padding='same', strides=(1,1),\n",
        "                        activation='relu', name= 'tower_3_1')(input_layer)\n",
        "tower_3 = layers.Conv2D(64 , kernel_size=(5,5) ,\n",
        "                        padding='same', strides=(1,1),\n",
        "                        activation='relu', name= 'tower_3_2')(tower_3)\n",
        "tower_4 = layers.MaxPool2D(pool_size=(3,3) , strides=(1,1) ,\n",
        "                           padding='same', name= 'tower_4_1')(input_layer)\n",
        "tower_4 = layers.Conv2D(64 , kernel_size=(1,1) ,\n",
        "                        padding='same', strides=(1,1),\n",
        "                        activation='relu', name= 'tower_4_2')(tower_4)\n",
        "#\n",
        "concat_layer = layers.concatenate([tower_1,tower_2,tower_3,tower_4],axis=3)\n",
        "concat_layer = layers.MaxPool2D(pool_size=(3,3) , strides=(2,2), padding='valid')(concat_layer)\n",
        "##\n",
        "tower_2_1 = layers.Conv2D(120 , kernel_size=(1,1) ,\n",
        "                        padding='same', strides=(1,1),\n",
        "                        activation='relu',name = 'tower_2_1_1' )(concat_layer)\n",
        "tower_2_2_1 = layers.Conv2D(120 , kernel_size=(1,1) ,\n",
        "                        padding='same', strides=(1,1),\n",
        "                        activation='relu' , name= 'tower_2_2_1')(concat_layer)\n",
        "tower_2_2_2 = layers.Conv2D(120 , kernel_size=(3,3) ,\n",
        "                        padding='same', strides=(1,1),\n",
        "                        activation='relu', name= 'tower_2_2_2')(tower_2_2_1)\n",
        "tower_2_3_1 = layers.Conv2D(120 , kernel_size=(1,1) ,\n",
        "                        padding='same', strides=(1,1),\n",
        "                        activation='relu', name= 'tower_2_3_1')(concat_layer)\n",
        "tower_2_3_2 = layers.Conv2D(120 , kernel_size=(5,5) ,\n",
        "                        padding='same', strides=(1,1),\n",
        "                        activation='relu', name= 'tower_2_3_2')(tower_2_3_1)\n",
        "tower_2_4_1 = layers.MaxPool2D(pool_size=(3,3) , strides=(1,1) ,\n",
        "                           padding='same', name= 'tower_2_4_1')(concat_layer)\n",
        "tower_2_4_2 = layers.Conv2D(120 , kernel_size=(1,1) ,\n",
        "                        padding='same', strides=(1,1),\n",
        "                        activation='relu', name= 'tower_2_4_2')(tower_2_4_1)\n",
        "concat_layer_2 = layers.concatenate([tower_2_1,tower_2_2_2,tower_2_3_2,tower_2_4_2],\n",
        "                                  axis=3)\n",
        "concat_layer_2 = layers.MaxPool2D(pool_size=(3,3) , strides=(2,2), padding='valid')(concat_layer_2)\n",
        "#\n",
        "last_avg_pool = layers.AveragePooling2D(pool_size=(31,31) , strides=(1,1), padding='valid')(concat_layer_2)\n",
        "flat_layer = layers.Flatten()(last_avg_pool)\n",
        "output_layer = layers.Dense(1 ,activation='sigmoid')(flat_layer)\n",
        "\n",
        "# 변경포인트 iunput, last_avg_pool,output_layer\n",
        "model = models.Model(input_layer,output_layer)\n",
        "model.summary()"
      ],
      "metadata": {
        "colab": {
          "base_uri": "https://localhost:8080/"
        },
        "id": "QNrIegClTet9",
        "outputId": "18f62723-a098-4bdb-b862-8644914f8c42"
      },
      "execution_count": 94,
      "outputs": [
        {
          "output_type": "stream",
          "name": "stdout",
          "text": [
            "Model: \"model_2\"\n",
            "__________________________________________________________________________________________________\n",
            " Layer (type)                Output Shape                 Param #   Connected to                  \n",
            "==================================================================================================\n",
            " start layer (InputLayer)    [(None, 128, 128, 3)]        0         []                            \n",
            "                                                                                                  \n",
            " tower_2_1 (Conv2D)          (None, 128, 128, 64)         256       ['start layer[0][0]']         \n",
            "                                                                                                  \n",
            " tower_3_1 (Conv2D)          (None, 128, 128, 64)         256       ['start layer[0][0]']         \n",
            "                                                                                                  \n",
            " tower_4_1 (MaxPooling2D)    (None, 128, 128, 3)          0         ['start layer[0][0]']         \n",
            "                                                                                                  \n",
            " tower_1 (Conv2D)            (None, 128, 128, 64)         256       ['start layer[0][0]']         \n",
            "                                                                                                  \n",
            " tower_2_2 (Conv2D)          (None, 128, 128, 64)         36928     ['tower_2_1[0][0]']           \n",
            "                                                                                                  \n",
            " tower_3_2 (Conv2D)          (None, 128, 128, 64)         102464    ['tower_3_1[0][0]']           \n",
            "                                                                                                  \n",
            " tower_4_2 (Conv2D)          (None, 128, 128, 64)         256       ['tower_4_1[0][0]']           \n",
            "                                                                                                  \n",
            " concatenate_4 (Concatenate  (None, 128, 128, 256)        0         ['tower_1[0][0]',             \n",
            " )                                                                   'tower_2_2[0][0]',           \n",
            "                                                                     'tower_3_2[0][0]',           \n",
            "                                                                     'tower_4_2[0][0]']           \n",
            "                                                                                                  \n",
            " max_pooling2d_4 (MaxPoolin  (None, 63, 63, 256)          0         ['concatenate_4[0][0]']       \n",
            " g2D)                                                                                             \n",
            "                                                                                                  \n",
            " tower_2_2_1 (Conv2D)        (None, 63, 63, 120)          30840     ['max_pooling2d_4[0][0]']     \n",
            "                                                                                                  \n",
            " tower_2_3_1 (Conv2D)        (None, 63, 63, 120)          30840     ['max_pooling2d_4[0][0]']     \n",
            "                                                                                                  \n",
            " tower_2_4_1 (MaxPooling2D)  (None, 63, 63, 256)          0         ['max_pooling2d_4[0][0]']     \n",
            "                                                                                                  \n",
            " tower_2_1_1 (Conv2D)        (None, 63, 63, 120)          30840     ['max_pooling2d_4[0][0]']     \n",
            "                                                                                                  \n",
            " tower_2_2_2 (Conv2D)        (None, 63, 63, 120)          129720    ['tower_2_2_1[0][0]']         \n",
            "                                                                                                  \n",
            " tower_2_3_2 (Conv2D)        (None, 63, 63, 120)          360120    ['tower_2_3_1[0][0]']         \n",
            "                                                                                                  \n",
            " tower_2_4_2 (Conv2D)        (None, 63, 63, 120)          30840     ['tower_2_4_1[0][0]']         \n",
            "                                                                                                  \n",
            " concatenate_5 (Concatenate  (None, 63, 63, 480)          0         ['tower_2_1_1[0][0]',         \n",
            " )                                                                   'tower_2_2_2[0][0]',         \n",
            "                                                                     'tower_2_3_2[0][0]',         \n",
            "                                                                     'tower_2_4_2[0][0]']         \n",
            "                                                                                                  \n",
            " max_pooling2d_5 (MaxPoolin  (None, 31, 31, 480)          0         ['concatenate_5[0][0]']       \n",
            " g2D)                                                                                             \n",
            "                                                                                                  \n",
            " average_pooling2d_2 (Avera  (None, 1, 1, 480)            0         ['max_pooling2d_5[0][0]']     \n",
            " gePooling2D)                                                                                     \n",
            "                                                                                                  \n",
            " flatten_2 (Flatten)         (None, 480)                  0         ['average_pooling2d_2[0][0]'] \n",
            "                                                                                                  \n",
            " dense_2 (Dense)             (None, 1)                    481       ['flatten_2[0][0]']           \n",
            "                                                                                                  \n",
            "==================================================================================================\n",
            "Total params: 754097 (2.88 MB)\n",
            "Trainable params: 754097 (2.88 MB)\n",
            "Non-trainable params: 0 (0.00 Byte)\n",
            "__________________________________________________________________________________________________\n"
          ]
        }
      ]
    },
    {
      "cell_type": "code",
      "source": [
        "!mkdir tensorboard_log"
      ],
      "metadata": {
        "colab": {
          "base_uri": "https://localhost:8080/"
        },
        "id": "Ws9nczDVVv3T",
        "outputId": "0ce94054-d72b-4921-e955-dd525483a92a"
      },
      "execution_count": 95,
      "outputs": [
        {
          "output_type": "stream",
          "name": "stdout",
          "text": [
            "mkdir: cannot create directory ‘tensorboard_log’: File exists\n"
          ]
        }
      ]
    },
    {
      "cell_type": "code",
      "source": [
        "model.compile(loss='binary_crossentropy',\n",
        "              optimizer='adam',metrics=['accuracy'])\n",
        "tb = tf.keras.callbacks.TensorBoard(log_dir='/content/tensorboard_log',\n",
        "                                    histogram_freq=1)\n",
        "model.fit(x_train,y_train,\n",
        "          validation_data=(x_test,y_test),\n",
        "          epochs=10,callbacks=[tb])"
      ],
      "metadata": {
        "id": "3MhzPj4qT8fW"
      },
      "execution_count": null,
      "outputs": []
    },
    {
      "cell_type": "code",
      "source": [
        "from google.colab import files\n",
        "f=files.upload()"
      ],
      "metadata": {
        "colab": {
          "base_uri": "https://localhost:8080/",
          "height": 69
        },
        "id": "PjI27EUuXX8t",
        "outputId": "ec670eb3-722c-47a7-b009-6cc87b624b68"
      },
      "execution_count": 57,
      "outputs": [
        {
          "output_type": "display_data",
          "data": {
            "text/plain": [
              "<IPython.core.display.HTML object>"
            ],
            "text/html": [
              "\n",
              "     <input type=\"file\" id=\"files-315c800b-7ef1-4383-b6d1-e3d407f44367\" name=\"files[]\" multiple disabled\n",
              "        style=\"border:none\" />\n",
              "     <output id=\"result-315c800b-7ef1-4383-b6d1-e3d407f44367\">\n",
              "      Upload widget is only available when the cell has been executed in the\n",
              "      current browser session. Please rerun this cell to enable.\n",
              "      </output>\n",
              "      <script>// Copyright 2017 Google LLC\n",
              "//\n",
              "// Licensed under the Apache License, Version 2.0 (the \"License\");\n",
              "// you may not use this file except in compliance with the License.\n",
              "// You may obtain a copy of the License at\n",
              "//\n",
              "//      http://www.apache.org/licenses/LICENSE-2.0\n",
              "//\n",
              "// Unless required by applicable law or agreed to in writing, software\n",
              "// distributed under the License is distributed on an \"AS IS\" BASIS,\n",
              "// WITHOUT WARRANTIES OR CONDITIONS OF ANY KIND, either express or implied.\n",
              "// See the License for the specific language governing permissions and\n",
              "// limitations under the License.\n",
              "\n",
              "/**\n",
              " * @fileoverview Helpers for google.colab Python module.\n",
              " */\n",
              "(function(scope) {\n",
              "function span(text, styleAttributes = {}) {\n",
              "  const element = document.createElement('span');\n",
              "  element.textContent = text;\n",
              "  for (const key of Object.keys(styleAttributes)) {\n",
              "    element.style[key] = styleAttributes[key];\n",
              "  }\n",
              "  return element;\n",
              "}\n",
              "\n",
              "// Max number of bytes which will be uploaded at a time.\n",
              "const MAX_PAYLOAD_SIZE = 100 * 1024;\n",
              "\n",
              "function _uploadFiles(inputId, outputId) {\n",
              "  const steps = uploadFilesStep(inputId, outputId);\n",
              "  const outputElement = document.getElementById(outputId);\n",
              "  // Cache steps on the outputElement to make it available for the next call\n",
              "  // to uploadFilesContinue from Python.\n",
              "  outputElement.steps = steps;\n",
              "\n",
              "  return _uploadFilesContinue(outputId);\n",
              "}\n",
              "\n",
              "// This is roughly an async generator (not supported in the browser yet),\n",
              "// where there are multiple asynchronous steps and the Python side is going\n",
              "// to poll for completion of each step.\n",
              "// This uses a Promise to block the python side on completion of each step,\n",
              "// then passes the result of the previous step as the input to the next step.\n",
              "function _uploadFilesContinue(outputId) {\n",
              "  const outputElement = document.getElementById(outputId);\n",
              "  const steps = outputElement.steps;\n",
              "\n",
              "  const next = steps.next(outputElement.lastPromiseValue);\n",
              "  return Promise.resolve(next.value.promise).then((value) => {\n",
              "    // Cache the last promise value to make it available to the next\n",
              "    // step of the generator.\n",
              "    outputElement.lastPromiseValue = value;\n",
              "    return next.value.response;\n",
              "  });\n",
              "}\n",
              "\n",
              "/**\n",
              " * Generator function which is called between each async step of the upload\n",
              " * process.\n",
              " * @param {string} inputId Element ID of the input file picker element.\n",
              " * @param {string} outputId Element ID of the output display.\n",
              " * @return {!Iterable<!Object>} Iterable of next steps.\n",
              " */\n",
              "function* uploadFilesStep(inputId, outputId) {\n",
              "  const inputElement = document.getElementById(inputId);\n",
              "  inputElement.disabled = false;\n",
              "\n",
              "  const outputElement = document.getElementById(outputId);\n",
              "  outputElement.innerHTML = '';\n",
              "\n",
              "  const pickedPromise = new Promise((resolve) => {\n",
              "    inputElement.addEventListener('change', (e) => {\n",
              "      resolve(e.target.files);\n",
              "    });\n",
              "  });\n",
              "\n",
              "  const cancel = document.createElement('button');\n",
              "  inputElement.parentElement.appendChild(cancel);\n",
              "  cancel.textContent = 'Cancel upload';\n",
              "  const cancelPromise = new Promise((resolve) => {\n",
              "    cancel.onclick = () => {\n",
              "      resolve(null);\n",
              "    };\n",
              "  });\n",
              "\n",
              "  // Wait for the user to pick the files.\n",
              "  const files = yield {\n",
              "    promise: Promise.race([pickedPromise, cancelPromise]),\n",
              "    response: {\n",
              "      action: 'starting',\n",
              "    }\n",
              "  };\n",
              "\n",
              "  cancel.remove();\n",
              "\n",
              "  // Disable the input element since further picks are not allowed.\n",
              "  inputElement.disabled = true;\n",
              "\n",
              "  if (!files) {\n",
              "    return {\n",
              "      response: {\n",
              "        action: 'complete',\n",
              "      }\n",
              "    };\n",
              "  }\n",
              "\n",
              "  for (const file of files) {\n",
              "    const li = document.createElement('li');\n",
              "    li.append(span(file.name, {fontWeight: 'bold'}));\n",
              "    li.append(span(\n",
              "        `(${file.type || 'n/a'}) - ${file.size} bytes, ` +\n",
              "        `last modified: ${\n",
              "            file.lastModifiedDate ? file.lastModifiedDate.toLocaleDateString() :\n",
              "                                    'n/a'} - `));\n",
              "    const percent = span('0% done');\n",
              "    li.appendChild(percent);\n",
              "\n",
              "    outputElement.appendChild(li);\n",
              "\n",
              "    const fileDataPromise = new Promise((resolve) => {\n",
              "      const reader = new FileReader();\n",
              "      reader.onload = (e) => {\n",
              "        resolve(e.target.result);\n",
              "      };\n",
              "      reader.readAsArrayBuffer(file);\n",
              "    });\n",
              "    // Wait for the data to be ready.\n",
              "    let fileData = yield {\n",
              "      promise: fileDataPromise,\n",
              "      response: {\n",
              "        action: 'continue',\n",
              "      }\n",
              "    };\n",
              "\n",
              "    // Use a chunked sending to avoid message size limits. See b/62115660.\n",
              "    let position = 0;\n",
              "    do {\n",
              "      const length = Math.min(fileData.byteLength - position, MAX_PAYLOAD_SIZE);\n",
              "      const chunk = new Uint8Array(fileData, position, length);\n",
              "      position += length;\n",
              "\n",
              "      const base64 = btoa(String.fromCharCode.apply(null, chunk));\n",
              "      yield {\n",
              "        response: {\n",
              "          action: 'append',\n",
              "          file: file.name,\n",
              "          data: base64,\n",
              "        },\n",
              "      };\n",
              "\n",
              "      let percentDone = fileData.byteLength === 0 ?\n",
              "          100 :\n",
              "          Math.round((position / fileData.byteLength) * 100);\n",
              "      percent.textContent = `${percentDone}% done`;\n",
              "\n",
              "    } while (position < fileData.byteLength);\n",
              "  }\n",
              "\n",
              "  // All done.\n",
              "  yield {\n",
              "    response: {\n",
              "      action: 'complete',\n",
              "    }\n",
              "  };\n",
              "}\n",
              "\n",
              "scope.google = scope.google || {};\n",
              "scope.google.colab = scope.google.colab || {};\n",
              "scope.google.colab._files = {\n",
              "  _uploadFiles,\n",
              "  _uploadFilesContinue,\n",
              "};\n",
              "})(self);\n",
              "</script> "
            ]
          },
          "metadata": {}
        },
        {
          "output_type": "stream",
          "name": "stdout",
          "text": [
            "Saving 스크린샷 2024-02-23 오전 9.34.29.png to 스크린샷 2024-02-23 오전 9.34.29.png\n"
          ]
        }
      ]
    },
    {
      "cell_type": "code",
      "source": [
        "test_file_name = list(f.keys())[0]"
      ],
      "metadata": {
        "id": "B8wH1VDYYhaJ"
      },
      "execution_count": 58,
      "outputs": []
    },
    {
      "cell_type": "code",
      "source": [
        "img=Image.open(test_file_name)\n",
        "img=img.resize((128,128))\n",
        "img=img.convert('RGB')\n",
        "data=np.array(img)\n",
        "test_image_tensor=np.array([data])\n",
        "test_image_name=test_image_tensor/255.\n",
        "test_image_tensor.shape"
      ],
      "metadata": {
        "colab": {
          "base_uri": "https://localhost:8080/"
        },
        "id": "rgQZiKyEYtu4",
        "outputId": "8cf027a2-b09e-4146-cae5-d3e2c5a15d74"
      },
      "execution_count": 61,
      "outputs": [
        {
          "output_type": "execute_result",
          "data": {
            "text/plain": [
              "(1, 128, 128, 3)"
            ]
          },
          "metadata": {},
          "execution_count": 61
        }
      ]
    },
    {
      "cell_type": "code",
      "source": [
        "result=model.predict(test_image_tensor)\n",
        "if result[0][0]>0.5:\n",
        "  print(f'{folder_list[1]}일 확률이 {result[0][0]*100}% 입니다')\n",
        "else:\n",
        "  print(f'{folder_list[0]}일 확률이 {(1-result[0][0])*100}% 입니다')"
      ],
      "metadata": {
        "colab": {
          "base_uri": "https://localhost:8080/"
        },
        "id": "HFDRAm6kZqjq",
        "outputId": "244f7c20-ff36-416f-c9c0-a25a22b88722"
      },
      "execution_count": 64,
      "outputs": [
        {
          "output_type": "stream",
          "name": "stdout",
          "text": [
            "1/1 [==============================] - 0s 140ms/step\n",
            "planet일 확률이 99.55372717231512% 입니다\n"
          ]
        }
      ]
    },
    {
      "cell_type": "code",
      "source": [],
      "metadata": {
        "id": "-BS2lzMLa_wP"
      },
      "execution_count": null,
      "outputs": []
    }
  ]
}